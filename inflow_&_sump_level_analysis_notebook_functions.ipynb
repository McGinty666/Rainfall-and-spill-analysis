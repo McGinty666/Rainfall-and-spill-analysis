{
  "nbformat": 4,
  "nbformat_minor": 0,
  "metadata": {
    "colab": {
      "provenance": [],
      "authorship_tag": "ABX9TyNQRcyX6m7BK2CxH4DAgJzn",
      "include_colab_link": true
    },
    "kernelspec": {
      "name": "python3",
      "display_name": "Python 3"
    },
    "language_info": {
      "name": "python"
    }
  },
  "cells": [
    {
      "cell_type": "markdown",
      "metadata": {
        "id": "view-in-github",
        "colab_type": "text"
      },
      "source": [
        "<a href=\"https://colab.research.google.com/github/McGinty666/Rainfall-and-spill-analysis/blob/main/inflow_%26_sump_level_analysis_notebook_functions.ipynb\" target=\"_parent\"><img src=\"https://colab.research.google.com/assets/colab-badge.svg\" alt=\"Open In Colab\"/></a>"
      ]
    },
    {
      "cell_type": "code",
      "execution_count": null,
      "metadata": {
        "id": "XoSbG0SUXZol"
      },
      "outputs": [],
      "source": [
        "\n",
        "\n",
        "def update_plot(pan_direction):\n",
        "    global start_time_plot, end_time_plot\n",
        "    if pan_direction == 'left':\n",
        "        start_time_plot = pd.to_datetime(start_time_plot) - pan_interval\n",
        "        end_time_plot = pd.to_datetime(end_time_plot) - pan_interval\n",
        "    elif pan_direction == 'right':\n",
        "        start_time_plot = pd.to_datetime(start_time_plot) + pan_interval\n",
        "        end_time_plot = pd.to_datetime(end_time_plot) + pan_interval\n",
        "    # Clear the previous plot\n",
        "    clear_output(wait=True)\n",
        "    # Display buttons again after clearing output\n",
        "    display(pan_left_button, pan_right_button)\n",
        "    # Plot the updated graph\n",
        "    plot_rainfall_and_sump_level(start_time_plot, end_time_plot)"
      ]
    }
  ]
}